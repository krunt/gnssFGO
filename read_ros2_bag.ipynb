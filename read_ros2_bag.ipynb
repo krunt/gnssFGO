{
 "cells": [
  {
   "cell_type": "code",
   "execution_count": 41,
   "metadata": {},
   "outputs": [],
   "source": [
    "from rclpy.serialization import deserialize_message\n",
    "from rosidl_runtime_py.utilities import get_message\n",
    "from std_msgs.msg import String\n",
    "import rosbag2_py\n",
    "\n",
    "import sys\n",
    "sys.path.append('/home/alexey/rtklib-py/src/')\n",
    "import rtkcmn as cmn\n",
    "\n",
    "import numpy as np\n",
    "import yaml\n",
    "\n",
    "import matplotlib.pyplot as plt\n",
    "%matplotlib inline"
   ]
  },
  {
   "cell_type": "code",
   "execution_count": 2,
   "metadata": {},
   "outputs": [],
   "source": [
    "def read_messages(input_bag: str):\n",
    "    reader = rosbag2_py.SequentialReader()\n",
    "    reader.open(\n",
    "        rosbag2_py.StorageOptions(uri=input_bag, storage_id=\"sqlite3\"),\n",
    "        rosbag2_py.ConverterOptions(\n",
    "            input_serialization_format=\"cdr\", output_serialization_format=\"cdr\"\n",
    "        ),\n",
    "    )\n",
    "\n",
    "    topic_types = reader.get_all_topics_and_types()\n",
    "\n",
    "    def typename(topic_name):\n",
    "        for topic_type in topic_types:\n",
    "            if topic_type.name == topic_name:\n",
    "                return topic_type.type\n",
    "        raise ValueError(f\"topic {topic_name} not in bag\")\n",
    "\n",
    "    while reader.has_next():\n",
    "        topic, data, timestamp = reader.read_next()\n",
    "        msg_type = get_message(typename(topic))\n",
    "        msg = deserialize_message(data, msg_type)\n",
    "        yield topic, msg, timestamp\n",
    "    del reader"
   ]
  },
  {
   "cell_type": "code",
   "execution_count": null,
   "metadata": {},
   "outputs": [],
   "source": []
  },
  {
   "cell_type": "code",
   "execution_count": 3,
   "metadata": {},
   "outputs": [],
   "source": [
    "# gt_tts_arr = []\n",
    "# gt_llh_arr = []\n",
    "# with open('gnss.yaml', 'r') as fd:\n",
    "#     msgs = yaml.safe_load_all(fd)\n",
    "#     for msg in msgs:\n",
    "#         if msg is None:\n",
    "#             continue\n",
    "#         if msg['status']['status'] < 1:\n",
    "#             continue\n",
    "#         llh = [msg['latitude'], msg['longitude'], msg['altitude']]\n",
    "#         gt_llh_arr.append(llh)\n",
    "# gt_llh_arr = np.array(gt_llh_arr)        \n",
    "\n",
    "#         gt_tts_arr.append(msg['header']['stamp']['secs'])"
   ]
  },
  {
   "cell_type": "code",
   "execution_count": 4,
   "metadata": {},
   "outputs": [],
   "source": [
    "# gt_tts_arr"
   ]
  },
  {
   "cell_type": "code",
   "execution_count": 43,
   "metadata": {},
   "outputs": [],
   "source": [
    "gt_tts_arr = []\n",
    "gt_llh_arr = []\n",
    "gt_ecef_arr = []\n",
    "gt_enu_arr = []\n",
    "with open('raw.yaml', 'r') as fd:\n",
    "    msgs = yaml.safe_load_all(fd)\n",
    "    for msg in msgs:\n",
    "        if msg is None:\n",
    "            continue\n",
    "        if not msg['latlong_is_set']:\n",
    "            continue\n",
    "        llh = [msg['latlong']['latitude'], msg['latlong']['longitude'], msg['latlong']['altitude']]\n",
    "        gt_llh_arr.append(llh)\n",
    "        gt_ecef_arr.append(cmn.pos2ecef(llh, isdeg=True))\n",
    "        gt_enu_arr.append(cmn.ecef2enu(gt_ecef_arr[0], gt_ecef_arr[-1]))\n",
    "gt_llh_arr = np.array(gt_llh_arr)    \n",
    "gt_ecef_arr = np.array(gt_ecef_arr)\n",
    "gt_enu_arr = np.array(gt_enu_arr)"
   ]
  },
  {
   "cell_type": "code",
   "execution_count": 5,
   "metadata": {},
   "outputs": [],
   "source": []
  },
  {
   "cell_type": "code",
   "execution_count": 55,
   "metadata": {},
   "outputs": [
    {
     "ename": "ValueError",
     "evalue": "operands could not be broadcast together with shapes (188,2) (1297,2) ",
     "output_type": "error",
     "traceback": [
      "\u001b[0;31m---------------------------------------------------------------------------\u001b[0m",
      "\u001b[0;31mValueError\u001b[0m                                Traceback (most recent call last)",
      "\u001b[0;32m<ipython-input-55-98c469e1512d>\u001b[0m in \u001b[0;36m<module>\u001b[0;34m\u001b[0m\n\u001b[1;32m     35\u001b[0m \u001b[0;31m# plt.plot(llh_arr[:, 1], llh_arr[:, 0], \"g\")\u001b[0m\u001b[0;34m\u001b[0m\u001b[0;34m\u001b[0m\u001b[0;34m\u001b[0m\u001b[0m\n\u001b[1;32m     36\u001b[0m \u001b[0;34m\u001b[0m\u001b[0m\n\u001b[0;32m---> 37\u001b[0;31m \u001b[0mmean_error\u001b[0m \u001b[0;34m=\u001b[0m \u001b[0mnp\u001b[0m\u001b[0;34m.\u001b[0m\u001b[0mlinalg\u001b[0m\u001b[0;34m.\u001b[0m\u001b[0mnorm\u001b[0m\u001b[0;34m(\u001b[0m\u001b[0menu_arr\u001b[0m\u001b[0;34m[\u001b[0m\u001b[0;34m:\u001b[0m\u001b[0;34m,\u001b[0m \u001b[0;34m:\u001b[0m\u001b[0;36m2\u001b[0m\u001b[0;34m]\u001b[0m \u001b[0;34m-\u001b[0m \u001b[0mgt_enu_arr\u001b[0m\u001b[0;34m[\u001b[0m\u001b[0;34m:\u001b[0m\u001b[0;34m,\u001b[0m \u001b[0;34m:\u001b[0m\u001b[0;36m2\u001b[0m\u001b[0;34m]\u001b[0m\u001b[0;34m)\u001b[0m\u001b[0;34m\u001b[0m\u001b[0;34m\u001b[0m\u001b[0m\n\u001b[0m\u001b[1;32m     38\u001b[0m \u001b[0mplt\u001b[0m\u001b[0;34m.\u001b[0m\u001b[0mtitle\u001b[0m\u001b[0;34m(\u001b[0m\u001b[0;34m\"mean_error=%f\"\u001b[0m \u001b[0;34m%\u001b[0m \u001b[0mmean_error\u001b[0m\u001b[0;34m)\u001b[0m\u001b[0;34m\u001b[0m\u001b[0;34m\u001b[0m\u001b[0m\n\u001b[1;32m     39\u001b[0m \u001b[0;34m\u001b[0m\u001b[0m\n",
      "\u001b[0;31mValueError\u001b[0m: operands could not be broadcast together with shapes (188,2) (1297,2) "
     ]
    },
    {
     "data": {
      "image/png": "[encoded data removed]",
      "text/plain": [
       "<Figure size 864x864 with 1 Axes>"
      ]
     },
     "metadata": {
      "needs_background": "light"
     },
     "output_type": "display_data"
    }
   ],
   "source": [
    "\n",
    "# BAG_PATH = '/home/alexey/gnssFGO/rosbag2_2024_04_21-23_38_12'\n",
    "# BAG_PATH = '/home/alexey/gnssFGO/rosbag2_2024_04_21-23_54_22'\n",
    "# BAG_PATH = '/home/alexey/gnssFGO/rosbag2_2024_04_22-00_00_52'\n",
    "BAG_PATH = '/home/alexey/gnssFGO/rosbag2_2024_04_22-00_43_54'\n",
    "\n",
    "\n",
    "\n",
    "\n",
    "tts_arr = []\n",
    "llh_arr = []\n",
    "ecef_arr = []\n",
    "enu_arr = []\n",
    "for topic, msg, timestamp in read_messages(BAG_PATH):\n",
    "#     print(msg.latitude, msg.longitude, msg.altitude)\n",
    "    llh = [msg.latitude, msg.longitude, msg.altitude]\n",
    "    llh_arr.append(llh)\n",
    "    ecef_arr.append(cmn.pos2ecef(llh, isdeg=True))\n",
    "    enu_arr.append(cmn.ecef2enu(gt_ecef_arr[0], ecef_arr[-1]))\n",
    "    \n",
    "    tts_arr.append(msg.header.stamp.sec)\n",
    "    \n",
    "llh_arr = np.array(llh_arr)\n",
    "ecef_arr = np.array(ecef_arr)\n",
    "enu_arr = np.array(enu_arr)\n",
    "\n",
    "plt.figure(figsize=(12,12))\n",
    "\n",
    "ax = plt.gca()\n",
    "ax.set_aspect('equal', adjustable='box')\n",
    "\n",
    "plt.plot(gt_enu_arr[:, 1], gt_enu_arr[:, 0], \"g\")\n",
    "plt.plot(enu_arr[:, 1], enu_arr[:, 0], \"r\")\n",
    "\n",
    "# plt.plot(gt_llh_arr[:, 1], gt_llh_arr[:, 0], \"r\")\n",
    "# plt.plot(llh_arr[:, 1], llh_arr[:, 0], \"g\")\n",
    "\n",
    "mean_error = np.linalg.norm(enu_arr[:, :2] - gt_enu_arr[:, :2])\n",
    "plt.title(\"mean_error=%f\" % mean_error)\n",
    "\n",
    "plt.legend(['icp', 'fgo_lc'])\n"
   ]
  },
  {
   "cell_type": "code",
   "execution_count": 47,
   "metadata": {},
   "outputs": [],
   "source": [
    "# enu_arr"
   ]
  },
  {
   "cell_type": "code",
   "execution_count": null,
   "metadata": {},
   "outputs": [],
   "source": []
  },
  {
   "cell_type": "code",
   "execution_count": null,
   "metadata": {},
   "outputs": [],
   "source": []
  },
  {
   "cell_type": "code",
   "execution_count": null,
   "metadata": {},
   "outputs": [],
   "source": [
    "\n",
    "import yaml\n",
    "import gtsam\n",
    "import numpy as np"
   ]
  },
  {
   "cell_type": "code",
   "execution_count": null,
   "metadata": {},
   "outputs": [],
   "source": [
    "icp_msgs = list(yaml.safe_load_all(open('/home/alexey/ros2_ws/raw.yaml')))\n"
   ]
  },
  {
   "cell_type": "code",
   "execution_count": null,
   "metadata": {},
   "outputs": [],
   "source": [
    "msg0 = icp_msgs[0]\n",
    "msg1 = icp_msgs[1]\n",
    "\n",
    "ts0 = msg0['header']['stamp']['secs'] + msg0['header']['stamp']['nsecs'] * 1e-9\n",
    "ts1 = msg1['header']['stamp']['secs'] + msg1['header']['stamp']['nsecs'] * 1e-9\n",
    "\n",
    "dt = (ts1-ts0)"
   ]
  },
  {
   "cell_type": "code",
   "execution_count": null,
   "metadata": {},
   "outputs": [],
   "source": [
    "qxyzw0 = msg0['orientation']['x'], msg0['orientation']['y'], msg0['orientation']['z'], msg0['orientation']['w']\n",
    "vxyz0 = msg0['linear_velocity']['x'], msg0['linear_velocity']['y'], msg0['linear_velocity']['z']\n",
    "\n",
    "qxyzw1 = msg1['orientation']['x'], msg1['orientation']['y'], msg1['orientation']['z'], msg1['orientation']['w']"
   ]
  },
  {
   "cell_type": "code",
   "execution_count": null,
   "metadata": {},
   "outputs": [],
   "source": [
    "llh0 = msg0['latlong']['latitude'], msg0['latlong']['longitude'], msg0['latlong']['altitude']\n",
    "llh1 = msg1['latlong']['latitude'], msg1['latlong']['longitude'], msg1['latlong']['altitude']"
   ]
  },
  {
   "cell_type": "code",
   "execution_count": null,
   "metadata": {},
   "outputs": [],
   "source": [
    "ecef0 = cmn.pos2ecef(llh0, True)\n",
    "ecef1 = cmn.pos2ecef(llh1, True)"
   ]
  },
  {
   "cell_type": "code",
   "execution_count": null,
   "metadata": {},
   "outputs": [],
   "source": [
    "vel_ecef01 = (ecef1 - ecef0) / dt"
   ]
  },
  {
   "cell_type": "code",
   "execution_count": null,
   "metadata": {},
   "outputs": [],
   "source": [
    "vel_ecef01"
   ]
  },
  {
   "cell_type": "code",
   "execution_count": null,
   "metadata": {},
   "outputs": [],
   "source": [
    "def enuRe_Matrix_asLLH(llh):\n",
    "    lat, lon = np.radians(llh[0]), np.radians(llh[1])\n",
    "    sinPhi = np.sin(lat)\n",
    "    cosPhi = np.cos(lat)\n",
    "    sinLam = np.sin(lon)\n",
    "    cosLam = np.cos(lon)\n",
    "    R = np.zeros((3,3))\n",
    "    R[0, 0] = -1 * sinLam\n",
    "    R[0, 1] = cosLam\n",
    "    R[0, 2] = 0\n",
    "    \n",
    "    R[1, 0] = -1 * sinPhi * cosLam\n",
    "    R[1, 1] = -1 * sinPhi * sinLam\n",
    "    R[1, 2] = cosPhi\n",
    "    \n",
    "    R[2, :] = cosPhi * cosLam, cosPhi * sinLam, sinPhi\n",
    "    \n",
    "    return R\n",
    "\n",
    "def nedRe_Matrix_asLLH(llh):\n",
    "    lat, lon = np.radians(llh[0]), np.radians(llh[1])\n",
    "    sLat = np.sin(lat)\n",
    "    sLon = np.sin(lon)\n",
    "    cLat = np.cos(lat)\n",
    "    cLon = np.cos(lon)\n",
    "\n",
    "    R = np.zeros((3,3))\n",
    "\n",
    "    R[0, :] = -sLat * cLon, -sLat * sLon, cLat\n",
    "    R[1, :] = -sLon, cLon, 0.0\n",
    "    R[2, :] = -cLat * cLon, -cLat * sLon, -sLat\n",
    "\n",
    "    return R\n",
    "\n",
    "def enu2ned(enu):\n",
    "    R = np.zeros((3,3))\n",
    "    R[0, 1] = 1\n",
    "    R[1, 0] = 1\n",
    "    R[2, 2] = -1\n",
    "    return R @ enu\n",
    "\n",
    "def ned2enu(ned):\n",
    "    R = np.zeros((3,3))\n",
    "    R[0, 1] = 1\n",
    "    R[1, 0] = 1\n",
    "    R[2, 2] = -1\n",
    "    return R @ ned"
   ]
  },
  {
   "cell_type": "code",
   "execution_count": null,
   "metadata": {},
   "outputs": [],
   "source": [
    "gtsam.Rot3(nedRe_Matrix_asLLH(llh0)).rotate(vel_ecef01)"
   ]
  },
  {
   "cell_type": "code",
   "execution_count": null,
   "metadata": {},
   "outputs": [],
   "source": [
    "gtsam.Rot3(enuRe_Matrix_asLLH(llh0)).rotate(vel_ecef01)"
   ]
  },
  {
   "cell_type": "code",
   "execution_count": null,
   "metadata": {},
   "outputs": [],
   "source": [
    "rot_enu = gtsam.Rot3(qxyzw0[-1], *qxyzw0[:3])"
   ]
  },
  {
   "cell_type": "code",
   "execution_count": null,
   "metadata": {},
   "outputs": [],
   "source": [
    "rot_enu.unrotate(ned2enu(gtsam.Rot3(nedRe_Matrix_asLLH(llh0)).rotate(vel_ecef01)))"
   ]
  },
  {
   "cell_type": "code",
   "execution_count": null,
   "metadata": {},
   "outputs": [],
   "source": [
    "rot_enu.unrotate(gtsam.Rot3(enuRe_Matrix_asLLH(llh0)).rotate(vel_ecef01))"
   ]
  },
  {
   "cell_type": "code",
   "execution_count": null,
   "metadata": {},
   "outputs": [],
   "source": [
    "eRenu = gtsam.Rot3(enuRe_Matrix_asLLH(llh0)).inverse()"
   ]
  },
  {
   "cell_type": "code",
   "execution_count": null,
   "metadata": {},
   "outputs": [],
   "source": []
  },
  {
   "cell_type": "code",
   "execution_count": null,
   "metadata": {},
   "outputs": [],
   "source": [
    "q = eRenu.compose(rot_enu).toQuaternion()\n",
    "print(q.x(), q.y(), q.z(), q.w())"
   ]
  },
  {
   "cell_type": "code",
   "execution_count": null,
   "metadata": {},
   "outputs": [],
   "source": [
    "rot_enu.matrix()"
   ]
  },
  {
   "cell_type": "code",
   "execution_count": null,
   "metadata": {},
   "outputs": [],
   "source": [
    "eRenu.compose(rot_enu).rotate(vxyz0)"
   ]
  },
  {
   "cell_type": "code",
   "execution_count": null,
   "metadata": {},
   "outputs": [],
   "source": [
    "eRenu.rotate(rot_enu.rotate(vxyz0))"
   ]
  },
  {
   "cell_type": "code",
   "execution_count": null,
   "metadata": {},
   "outputs": [],
   "source": [
    "gravity_ecef = -4.422821, -3.446226, -8.055375"
   ]
  },
  {
   "cell_type": "code",
   "execution_count": null,
   "metadata": {},
   "outputs": [],
   "source": [
    "eRenu.rotate(np.array([0,0,-9.81]))"
   ]
  },
  {
   "cell_type": "code",
   "execution_count": null,
   "metadata": {},
   "outputs": [],
   "source": [
    "eRenu.inverse().rotate(gravity_ecef)"
   ]
  },
  {
   "cell_type": "code",
   "execution_count": null,
   "metadata": {},
   "outputs": [],
   "source": [
    "lacc_body = -0.6465894669294358, -0.4684399664402008, 9.617865180969238"
   ]
  },
  {
   "cell_type": "code",
   "execution_count": null,
   "metadata": {},
   "outputs": [],
   "source": [
    "eRenu.compose(rot_enu).inverse().rotate(gravity_ecef) # + lacc_body"
   ]
  },
  {
   "cell_type": "code",
   "execution_count": null,
   "metadata": {},
   "outputs": [],
   "source": [
    "gtsam.Rot3(0.872959251292491, 0.045767265622131605,  0.13594323770268815,  0.4662262745740213).unrotate(gravity_ecef)\n"
   ]
  },
  {
   "cell_type": "code",
   "execution_count": null,
   "metadata": {},
   "outputs": [],
   "source": [
    "gtsam.Rot3(0.8243985266369425,  -0.03258431497919451, 0.30527486649126445,0.4755129730983642).unrotate(gravity_ecef)\n"
   ]
  },
  {
   "cell_type": "code",
   "execution_count": null,
   "metadata": {},
   "outputs": [],
   "source": []
  }
 ],
 "metadata": {
  "kernelspec": {
   "display_name": "Python 3",
   "language": "python",
   "name": "python3"
  },
  "language_info": {
   "codemirror_mode": {
    "name": "ipython",
    "version": 3
   },
   "file_extension": ".py",
   "mimetype": "text/x-python",
   "name": "python",
   "nbconvert_exporter": "python",
   "pygments_lexer": "ipython3",
   "version": "3.8.10"
  }
 },
 "nbformat": 4,
 "nbformat_minor": 5
}
